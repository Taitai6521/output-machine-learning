{
 "cells": [
  {
   "cell_type": "code",
   "execution_count": 1,
   "metadata": {},
   "outputs": [],
   "source": [
    "import pandas as pd\n",
    "import numpy as np\n",
    "import matplotlib.pyplot as plt\n",
    "import seaborn as sns\n",
    "import pickle"
   ]
  },
  {
   "cell_type": "code",
   "execution_count": 2,
   "metadata": {},
   "outputs": [],
   "source": [
    "with open(\"traffic-signs-data/train.p\", mode='rb') as training_data:\n",
    "    train=pickle.load(training_data)\n",
    "with open(\"traffic-signs-data/valid.p\", mode='rb') as validation_data:\n",
    "    val=pickle.load(validation_data)\n",
    "with open(\"traffic-signs-data/test.p\", mode='rb') as testing_data:\n",
    "    test=pickle.load(testing_data)"
   ]
  },
  {
   "cell_type": "code",
   "execution_count": 3,
   "metadata": {},
   "outputs": [],
   "source": [
    "X_train, y_train = train['features'], train['labels']\n",
    "X_validation, y_validation = val['features'], val['labels']\n",
    "X_test, y_test = test['features'], test['labels']"
   ]
  },
  {
   "cell_type": "code",
   "execution_count": 4,
   "metadata": {},
   "outputs": [
    {
     "data": {
      "text/plain": [
       "(34799, 32, 32, 3)"
      ]
     },
     "execution_count": 4,
     "metadata": {},
     "output_type": "execute_result"
    }
   ],
   "source": [
    "X_train.shape"
   ]
  },
  {
   "cell_type": "code",
   "execution_count": 5,
   "metadata": {},
   "outputs": [
    {
     "data": {
      "text/plain": [
       "(4410, 32, 32, 3)"
      ]
     },
     "execution_count": 5,
     "metadata": {},
     "output_type": "execute_result"
    }
   ],
   "source": [
    "X_validation.shape"
   ]
  },
  {
   "cell_type": "code",
   "execution_count": 6,
   "metadata": {},
   "outputs": [
    {
     "data": {
      "text/plain": [
       "(12630, 32, 32, 3)"
      ]
     },
     "execution_count": 6,
     "metadata": {},
     "output_type": "execute_result"
    }
   ],
   "source": [
    "X_test.shape"
   ]
  },
  {
   "cell_type": "code",
   "execution_count": null,
   "metadata": {},
   "outputs": [],
   "source": []
  },
  {
   "cell_type": "code",
   "execution_count": null,
   "metadata": {},
   "outputs": [],
   "source": []
  },
  {
   "cell_type": "code",
   "execution_count": 65,
   "metadata": {},
   "outputs": [
    {
     "name": "stdout",
     "output_type": "stream",
     "text": [
      "36\n"
     ]
    },
    {
     "data": {
      "image/png": "[encoded data removed]",
      "text/plain": [
       "<Figure size 432x288 with 1 Axes>"
      ]
     },
     "metadata": {
      "needs_background": "light"
     },
     "output_type": "display_data"
    }
   ],
   "source": [
    "i = 1000\n",
    "plt.imshow(X_train[i])\n",
    "print(y_train[i])"
   ]
  },
  {
   "cell_type": "code",
   "execution_count": 66,
   "metadata": {},
   "outputs": [
    {
     "data": {
      "text/plain": [
       "41"
      ]
     },
     "execution_count": 66,
     "metadata": {},
     "output_type": "execute_result"
    },
    {
     "data": {
      "image/png": "[encoded data removed]",
      "text/plain": [
       "<Figure size 432x288 with 1 Axes>"
      ]
     },
     "metadata": {
      "needs_background": "light"
     },
     "output_type": "display_data"
    }
   ],
   "source": [
    "i = 100\n",
    "plt.imshow(X_train[i])\n",
    "y_train[i]"
   ]
  },
  {
   "cell_type": "code",
   "execution_count": 7,
   "metadata": {},
   "outputs": [],
   "source": [
    "from sklearn.utils import shuffle\n",
    "X_train, y_train = shuffle(X_train,y_train)"
   ]
  },
  {
   "cell_type": "code",
   "execution_count": 8,
   "metadata": {},
   "outputs": [],
   "source": [
    "X_train_gray = np.sum(X_train/3, axis=3, keepdims=True)\n",
    "X_validation_gray = np.sum(X_validation/3, axis=3, keepdims=True)\n",
    "X_test_gray = np.sum(X_test/3, axis=3, keepdims=True)\n",
    "\n",
    "\n"
   ]
  },
  {
   "cell_type": "code",
   "execution_count": 79,
   "metadata": {},
   "outputs": [
    {
     "data": {
      "text/plain": [
       "(34799, 32, 32, 1)"
      ]
     },
     "execution_count": 79,
     "metadata": {},
     "output_type": "execute_result"
    }
   ],
   "source": [
    "X_train_gray.shape"
   ]
  },
  {
   "cell_type": "code",
   "execution_count": 9,
   "metadata": {},
   "outputs": [],
   "source": [
    "X_train_gray_norm = (X_train_gray-128)/128\n",
    "X_validation_gray_norm = (X_validation_gray-128)/128\n",
    "X_test_gray_norm = (X_test_gray-128)/128"
   ]
  },
  {
   "cell_type": "code",
   "execution_count": 10,
   "metadata": {},
   "outputs": [
    {
     "data": {
      "text/plain": [
       "array([[[[127, 151, 195],\n",
       "         [125, 150, 195],\n",
       "         [127, 152, 195],\n",
       "         ...,\n",
       "         [131, 153, 199],\n",
       "         [131, 154, 200],\n",
       "         [132, 155, 200]],\n",
       "\n",
       "        [[128, 150, 195],\n",
       "         [127, 150, 197],\n",
       "         [127, 150, 194],\n",
       "         ...,\n",
       "         [126, 134, 160],\n",
       "         [130, 153, 195],\n",
       "         [129, 154, 199]],\n",
       "\n",
       "        [[127, 148, 193],\n",
       "         [128, 149, 193],\n",
       "         [128, 150, 192],\n",
       "         ...,\n",
       "         [110,  99, 114],\n",
       "         [130, 149, 180],\n",
       "         [130, 154, 197]],\n",
       "\n",
       "        ...,\n",
       "\n",
       "        [[ 44,  42,  42],\n",
       "         [ 46,  45,  44],\n",
       "         [ 49,  47,  47],\n",
       "         ...,\n",
       "         [ 52,  54,  57],\n",
       "         [ 49,  48,  54],\n",
       "         [ 50,  49,  53]],\n",
       "\n",
       "        [[ 43,  42,  43],\n",
       "         [ 45,  43,  43],\n",
       "         [ 47,  45,  45],\n",
       "         ...,\n",
       "         [ 53,  55,  59],\n",
       "         [ 45,  45,  50],\n",
       "         [ 45,  44,  45]],\n",
       "\n",
       "        [[ 40,  39,  40],\n",
       "         [ 39,  38,  39],\n",
       "         [ 45,  42,  42],\n",
       "         ...,\n",
       "         [ 52,  54,  58],\n",
       "         [ 45,  45,  50],\n",
       "         [ 46,  45,  47]]],\n",
       "\n",
       "\n",
       "       [[[ 44,  39,  39],\n",
       "         [ 44,  41,  42],\n",
       "         [ 36,  36,  36],\n",
       "         ...,\n",
       "         [ 45,  44,  42],\n",
       "         [ 39,  43,  43],\n",
       "         [ 39,  41,  43]],\n",
       "\n",
       "        [[ 43,  37,  39],\n",
       "         [ 44,  41,  44],\n",
       "         [ 37,  37,  40],\n",
       "         ...,\n",
       "         [ 50,  48,  43],\n",
       "         [ 49,  51,  50],\n",
       "         [ 43,  45,  48]],\n",
       "\n",
       "        [[ 44,  36,  38],\n",
       "         [ 45,  41,  43],\n",
       "         [ 37,  38,  39],\n",
       "         ...,\n",
       "         [ 57,  51,  49],\n",
       "         [ 51,  51,  51],\n",
       "         [ 48,  49,  52]],\n",
       "\n",
       "        ...,\n",
       "\n",
       "        [[ 41,  41,  40],\n",
       "         [ 43,  43,  42],\n",
       "         [ 43,  44,  46],\n",
       "         ...,\n",
       "         [ 26,  26,  29],\n",
       "         [ 26,  26,  25],\n",
       "         [ 30,  29,  24]],\n",
       "\n",
       "        [[ 41,  44,  44],\n",
       "         [ 41,  43,  44],\n",
       "         [ 40,  42,  44],\n",
       "         ...,\n",
       "         [ 27,  27,  27],\n",
       "         [ 29,  28,  27],\n",
       "         [ 32,  30,  27]],\n",
       "\n",
       "        [[ 45,  50,  50],\n",
       "         [ 42,  45,  48],\n",
       "         [ 39,  41,  44],\n",
       "         ...,\n",
       "         [ 29,  28,  27],\n",
       "         [ 30,  28,  27],\n",
       "         [ 38,  31,  29]]],\n",
       "\n",
       "\n",
       "       [[[  9,   9,  12],\n",
       "         [  9,   9,  12],\n",
       "         [  9,   9,  12],\n",
       "         ...,\n",
       "         [  6,   6,   9],\n",
       "         [  6,   6,   9],\n",
       "         [  6,   6,   9]],\n",
       "\n",
       "        [[  7,   7,  11],\n",
       "         [  7,   7,  10],\n",
       "         [  7,   7,  10],\n",
       "         ...,\n",
       "         [  6,   6,   9],\n",
       "         [  6,   6,   9],\n",
       "         [  6,   6,   9]],\n",
       "\n",
       "        [[  6,   6,  10],\n",
       "         [  6,   6,  10],\n",
       "         [  7,   7,  10],\n",
       "         ...,\n",
       "         [  6,   6,   9],\n",
       "         [  6,   6,   9],\n",
       "         [  6,   6,   9]],\n",
       "\n",
       "        ...,\n",
       "\n",
       "        [[  8,   7,  11],\n",
       "         [  8,   8,  11],\n",
       "         [  8,   7,  11],\n",
       "         ...,\n",
       "         [ 14,  14,  21],\n",
       "         [ 13,  13,  22],\n",
       "         [ 13,  13,  19]],\n",
       "\n",
       "        [[  8,   8,  12],\n",
       "         [  8,   8,  11],\n",
       "         [  8,   8,  11],\n",
       "         ...,\n",
       "         [ 26,  27,  36],\n",
       "         [ 22,  21,  29],\n",
       "         [ 16,  16,  22]],\n",
       "\n",
       "        [[  8,   8,  11],\n",
       "         [  9,   8,  11],\n",
       "         [  9,   9,  12],\n",
       "         ...,\n",
       "         [ 23,  24,  33],\n",
       "         [ 18,  18,  25],\n",
       "         [ 13,  13,  17]]],\n",
       "\n",
       "\n",
       "       ...,\n",
       "\n",
       "\n",
       "       [[[ 29,  33,  44],\n",
       "         [ 29,  33,  44],\n",
       "         [ 32,  36,  47],\n",
       "         ...,\n",
       "         [ 21,  24,  36],\n",
       "         [ 21,  24,  34],\n",
       "         [ 21,  24,  35]],\n",
       "\n",
       "        [[ 28,  32,  41],\n",
       "         [ 31,  35,  45],\n",
       "         [ 32,  37,  49],\n",
       "         ...,\n",
       "         [ 23,  26,  37],\n",
       "         [ 23,  26,  36],\n",
       "         [ 24,  27,  37]],\n",
       "\n",
       "        [[ 29,  33,  44],\n",
       "         [ 32,  37,  47],\n",
       "         [ 30,  37,  48],\n",
       "         ...,\n",
       "         [ 24,  27,  40],\n",
       "         [ 25,  28,  39],\n",
       "         [ 23,  27,  38]],\n",
       "\n",
       "        ...,\n",
       "\n",
       "        [[ 37,  39,  51],\n",
       "         [ 38,  41,  53],\n",
       "         [ 37,  41,  51],\n",
       "         ...,\n",
       "         [ 20,  24,  34],\n",
       "         [ 20,  24,  34],\n",
       "         [ 19,  23,  32]],\n",
       "\n",
       "        [[ 38,  39,  51],\n",
       "         [ 38,  40,  52],\n",
       "         [ 38,  41,  51],\n",
       "         ...,\n",
       "         [ 20,  24,  33],\n",
       "         [ 20,  23,  33],\n",
       "         [ 19,  22,  32]],\n",
       "\n",
       "        [[ 37,  38,  49],\n",
       "         [ 38,  39,  49],\n",
       "         [ 38,  40,  50],\n",
       "         ...,\n",
       "         [ 18,  22,  31],\n",
       "         [ 19,  22,  32],\n",
       "         [ 18,  21,  31]]],\n",
       "\n",
       "\n",
       "       [[[ 74,  62,  40],\n",
       "         [ 58,  54,  35],\n",
       "         [ 62,  59,  39],\n",
       "         ...,\n",
       "         [ 41,  41,  30],\n",
       "         [ 26,  26,  24],\n",
       "         [ 22,  20,  18]],\n",
       "\n",
       "        [[ 96,  75,  53],\n",
       "         [ 67,  66,  45],\n",
       "         [ 75,  66,  53],\n",
       "         ...,\n",
       "         [ 51,  50,  39],\n",
       "         [ 22,  23,  23],\n",
       "         [ 17,  19,  18]],\n",
       "\n",
       "        [[ 72,  61,  52],\n",
       "         [ 76,  79,  62],\n",
       "         [ 95,  85,  71],\n",
       "         ...,\n",
       "         [ 45,  46,  39],\n",
       "         [ 25,  24,  21],\n",
       "         [ 20,  23,  21]],\n",
       "\n",
       "        ...,\n",
       "\n",
       "        [[ 17,  16,  18],\n",
       "         [ 18,  17,  19],\n",
       "         [ 17,  16,  18],\n",
       "         ...,\n",
       "         [ 55,  43,  32],\n",
       "         [ 19,  18,  18],\n",
       "         [ 17,  16,  18]],\n",
       "\n",
       "        [[ 35,  26,  21],\n",
       "         [ 24,  24,  24],\n",
       "         [ 33,  32,  26],\n",
       "         ...,\n",
       "         [ 29,  26,  20],\n",
       "         [ 20,  19,  19],\n",
       "         [ 17,  16,  18]],\n",
       "\n",
       "        [[ 78,  67,  46],\n",
       "         [ 55,  48,  42],\n",
       "         [ 95,  64,  52],\n",
       "         ...,\n",
       "         [ 49,  47,  40],\n",
       "         [ 32,  28,  25],\n",
       "         [ 16,  18,  19]]],\n",
       "\n",
       "\n",
       "       [[[142, 109, 100],\n",
       "         [133, 101,  90],\n",
       "         [128, 106,  84],\n",
       "         ...,\n",
       "         [ 89,  79,  63],\n",
       "         [ 74,  66,  61],\n",
       "         [ 74,  67,  59]],\n",
       "\n",
       "        [[165, 122, 108],\n",
       "         [162, 120, 106],\n",
       "         [134, 109, 103],\n",
       "         ...,\n",
       "         [123, 112,  92],\n",
       "         [ 61,  55,  50],\n",
       "         [ 64,  57,  50]],\n",
       "\n",
       "        [[142, 130, 111],\n",
       "         [138, 126, 108],\n",
       "         [104,  98,  97],\n",
       "         ...,\n",
       "         [ 91,  86,  69],\n",
       "         [ 63,  58,  53],\n",
       "         [ 64,  52,  49]],\n",
       "\n",
       "        ...,\n",
       "\n",
       "        [[ 78,  69,  59],\n",
       "         [ 70,  62,  53],\n",
       "         [ 63,  55,  49],\n",
       "         ...,\n",
       "         [ 61,  51,  46],\n",
       "         [ 63,  51,  47],\n",
       "         [ 62,  49,  45]],\n",
       "\n",
       "        [[ 73,  63,  50],\n",
       "         [ 70,  62,  51],\n",
       "         [ 61,  53,  49],\n",
       "         ...,\n",
       "         [ 61,  52,  46],\n",
       "         [ 61,  51,  46],\n",
       "         [ 61,  50,  45]],\n",
       "\n",
       "        [[ 69,  58,  49],\n",
       "         [ 64,  57,  49],\n",
       "         [ 59,  52,  47],\n",
       "         ...,\n",
       "         [ 52,  42,  40],\n",
       "         [ 49,  42,  40],\n",
       "         [ 50,  42,  39]]]], dtype=uint8)"
      ]
     },
     "execution_count": 10,
     "metadata": {},
     "output_type": "execute_result"
    }
   ],
   "source": [
    "X_train"
   ]
  },
  {
   "cell_type": "code",
   "execution_count": 11,
   "metadata": {},
   "outputs": [
    {
     "data": {
      "text/plain": [
       "(34799, 32, 32, 1)"
      ]
     },
     "execution_count": 11,
     "metadata": {},
     "output_type": "execute_result"
    }
   ],
   "source": [
    "X_train_gray_norm.shape"
   ]
  },
  {
   "cell_type": "code",
   "execution_count": 12,
   "metadata": {},
   "outputs": [
    {
     "data": {
      "text/plain": [
       "<Figure size 432x288 with 0 Axes>"
      ]
     },
     "execution_count": 12,
     "metadata": {},
     "output_type": "execute_result"
    },
    {
     "data": {
      "image/png": "[encoded data removed]",
      "text/plain": [
       "<Figure size 432x288 with 1 Axes>"
      ]
     },
     "metadata": {
      "needs_background": "light"
     },
     "output_type": "display_data"
    },
    {
     "data": {
      "image/png": "[encoded data removed]",
      "text/plain": [
       "<Figure size 432x288 with 1 Axes>"
      ]
     },
     "metadata": {
      "needs_background": "light"
     },
     "output_type": "display_data"
    },
    {
     "data": {
      "image/png": "[encoded data removed]",
      "text/plain": [
       "<Figure size 432x288 with 1 Axes>"
      ]
     },
     "metadata": {
      "needs_background": "light"
     },
     "output_type": "display_data"
    },
    {
     "data": {
      "text/plain": [
       "<Figure size 432x288 with 0 Axes>"
      ]
     },
     "metadata": {},
     "output_type": "display_data"
    }
   ],
   "source": [
    "i = 610\n",
    "plt.imshow(X_train_gray[i].squeeze(), cmap='gray')\n",
    "plt.figure()\n",
    "plt.imshow(X_train[i])\n",
    "plt.figure()\n",
    "plt.imshow(X_train_gray_norm[i].squeeze(), cmap='gray')\n",
    "plt.figure()"
   ]
  },
  {
   "cell_type": "code",
   "execution_count": 14,
   "metadata": {},
   "outputs": [],
   "source": [
    "from keras.models import Sequential\n",
    "from keras.layers import Conv2D, MaxPool2D, AveragePooling2D, Flatten, Dropout, Dense\n",
    "from keras.optimizers import Adam\n",
    "from keras.callbacks import TensorBoard\n",
    "\n"
   ]
  },
  {
   "cell_type": "code",
   "execution_count": 15,
   "metadata": {},
   "outputs": [],
   "source": [
    "cnn_model = Sequential()\n",
    "\n",
    "cnn_model.add(Conv2D(filters=6, kernel_size=(5, 5), activation='relu', input_shape=(32,32,1)))\n",
    "cnn_model.add(AveragePooling2D())\n",
    "\n",
    "cnn_model.add(Conv2D(filters=16, kernel_size=(5, 5), activation='relu'))\n",
    "cnn_model.add(AveragePooling2D())\n",
    "\n",
    "cnn_model.add(Flatten())\n",
    "\n",
    "cnn_model.add(Dense(units=120, activation='relu'))\n",
    "\n",
    "cnn_model.add(Dense(units=84, activation='relu'))\n",
    "\n",
    "cnn_model.add(Dense(units=43, activation = 'softmax'))\n"
   ]
  },
  {
   "cell_type": "code",
   "execution_count": 17,
   "metadata": {},
   "outputs": [],
   "source": [
    "cnn_model.compile(loss ='sparse_categorical_crossentropy', optimizer=Adam(lr=0.001),metrics =['accuracy'])"
   ]
  },
  {
   "cell_type": "code",
   "execution_count": 19,
   "metadata": {},
   "outputs": [
    {
     "name": "stderr",
     "output_type": "stream",
     "text": [
      "<ipython-input-19-88d0c0922347>:1: UserWarning: The `nb_epoch` argument in `fit` has been renamed `epochs`.\n",
      "  history = cnn_model.fit(X_train_gray_norm,\n"
     ]
    },
    {
     "name": "stdout",
     "output_type": "stream",
     "text": [
      "Train on 34799 samples, validate on 4410 samples\n",
      "Epoch 1/50\n",
      "34799/34799 [==============================] - 3s 78us/step - loss: 3.1519 - accuracy: 0.1825 - val_loss: 2.7483 - val_accuracy: 0.2961\n",
      "Epoch 2/50\n",
      "34799/34799 [==============================] - 2s 71us/step - loss: 1.7987 - accuracy: 0.5117 - val_loss: 1.4293 - val_accuracy: 0.5905\n",
      "Epoch 3/50\n",
      "34799/34799 [==============================] - 2s 70us/step - loss: 0.9554 - accuracy: 0.7326 - val_loss: 1.0333 - val_accuracy: 0.7007\n",
      "Epoch 4/50\n",
      "34799/34799 [==============================] - 2s 70us/step - loss: 0.6767 - accuracy: 0.8127 - val_loss: 0.8639 - val_accuracy: 0.7438\n",
      "Epoch 5/50\n",
      "34799/34799 [==============================] - 3s 75us/step - loss: 0.5313 - accuracy: 0.8549 - val_loss: 0.7754 - val_accuracy: 0.7673\n",
      "Epoch 6/50\n",
      "34799/34799 [==============================] - 2s 69us/step - loss: 0.4469 - accuracy: 0.8800 - val_loss: 0.7400 - val_accuracy: 0.7780\n",
      "Epoch 7/50\n",
      "34799/34799 [==============================] - 2s 69us/step - loss: 0.3632 - accuracy: 0.9065 - val_loss: 0.6520 - val_accuracy: 0.8161\n",
      "Epoch 8/50\n",
      "34799/34799 [==============================] - 3s 73us/step - loss: 0.3129 - accuracy: 0.9207 - val_loss: 0.6275 - val_accuracy: 0.8172\n",
      "Epoch 9/50\n",
      "34799/34799 [==============================] - 2s 70us/step - loss: 0.2757 - accuracy: 0.9292 - val_loss: 0.6033 - val_accuracy: 0.8322\n",
      "Epoch 10/50\n",
      "34799/34799 [==============================] - 2s 71us/step - loss: 0.2461 - accuracy: 0.9382 - val_loss: 0.6260 - val_accuracy: 0.8220\n",
      "Epoch 11/50\n",
      "34799/34799 [==============================] - 2s 70us/step - loss: 0.2160 - accuracy: 0.9467 - val_loss: 0.5924 - val_accuracy: 0.8302\n",
      "Epoch 12/50\n",
      "34799/34799 [==============================] - 2s 70us/step - loss: 0.1886 - accuracy: 0.9536 - val_loss: 0.5834 - val_accuracy: 0.8363\n",
      "Epoch 13/50\n",
      "34799/34799 [==============================] - 2s 71us/step - loss: 0.1728 - accuracy: 0.9573 - val_loss: 0.5844 - val_accuracy: 0.8308\n",
      "Epoch 14/50\n",
      "34799/34799 [==============================] - 2s 72us/step - loss: 0.1633 - accuracy: 0.9587 - val_loss: 0.5941 - val_accuracy: 0.8370\n",
      "Epoch 15/50\n",
      "34799/34799 [==============================] - 3s 73us/step - loss: 0.1434 - accuracy: 0.9646 - val_loss: 0.6314 - val_accuracy: 0.8274\n",
      "Epoch 16/50\n",
      "34799/34799 [==============================] - 3s 77us/step - loss: 0.1319 - accuracy: 0.9664 - val_loss: 0.6073 - val_accuracy: 0.8356\n",
      "Epoch 17/50\n",
      "34799/34799 [==============================] - 3s 77us/step - loss: 0.1230 - accuracy: 0.9697 - val_loss: 0.5959 - val_accuracy: 0.8429\n",
      "Epoch 18/50\n",
      "34799/34799 [==============================] - 3s 74us/step - loss: 0.1101 - accuracy: 0.9725 - val_loss: 0.5553 - val_accuracy: 0.8460\n",
      "Epoch 19/50\n",
      "34799/34799 [==============================] - 3s 73us/step - loss: 0.0991 - accuracy: 0.9766 - val_loss: 0.5962 - val_accuracy: 0.8460\n",
      "Epoch 20/50\n",
      "34799/34799 [==============================] - 3s 74us/step - loss: 0.0924 - accuracy: 0.9777 - val_loss: 0.6318 - val_accuracy: 0.8324\n",
      "Epoch 21/50\n",
      "34799/34799 [==============================] - 3s 76us/step - loss: 0.0859 - accuracy: 0.9792 - val_loss: 0.5858 - val_accuracy: 0.8515\n",
      "Epoch 22/50\n",
      "34799/34799 [==============================] - 3s 73us/step - loss: 0.0822 - accuracy: 0.9798 - val_loss: 0.5938 - val_accuracy: 0.8431\n",
      "Epoch 23/50\n",
      "34799/34799 [==============================] - 3s 77us/step - loss: 0.0735 - accuracy: 0.9820 - val_loss: 0.5934 - val_accuracy: 0.8526\n",
      "Epoch 24/50\n",
      "34799/34799 [==============================] - 3s 78us/step - loss: 0.0670 - accuracy: 0.9843 - val_loss: 0.6072 - val_accuracy: 0.8485\n",
      "Epoch 25/50\n",
      "34799/34799 [==============================] - 3s 79us/step - loss: 0.0619 - accuracy: 0.9851 - val_loss: 0.7001 - val_accuracy: 0.8299\n",
      "Epoch 26/50\n",
      "34799/34799 [==============================] - 3s 73us/step - loss: 0.0590 - accuracy: 0.9855 - val_loss: 0.6151 - val_accuracy: 0.8533\n",
      "Epoch 27/50\n",
      "34799/34799 [==============================] - 3s 75us/step - loss: 0.0580 - accuracy: 0.9856 - val_loss: 0.6667 - val_accuracy: 0.8465\n",
      "Epoch 28/50\n",
      "34799/34799 [==============================] - 3s 73us/step - loss: 0.0535 - accuracy: 0.9866 - val_loss: 0.6153 - val_accuracy: 0.8560\n",
      "Epoch 29/50\n",
      "34799/34799 [==============================] - 3s 82us/step - loss: 0.0512 - accuracy: 0.9868 - val_loss: 0.6358 - val_accuracy: 0.8571\n",
      "Epoch 30/50\n",
      "34799/34799 [==============================] - 3s 78us/step - loss: 0.0448 - accuracy: 0.9893 - val_loss: 0.6862 - val_accuracy: 0.8454\n",
      "Epoch 31/50\n",
      "34799/34799 [==============================] - 3s 74us/step - loss: 0.0421 - accuracy: 0.9900 - val_loss: 0.6960 - val_accuracy: 0.8433\n",
      "Epoch 32/50\n",
      "34799/34799 [==============================] - 3s 82us/step - loss: 0.0392 - accuracy: 0.9907 - val_loss: 0.6435 - val_accuracy: 0.8576\n",
      "Epoch 33/50\n",
      "34799/34799 [==============================] - 3s 78us/step - loss: 0.0347 - accuracy: 0.9920 - val_loss: 0.7143 - val_accuracy: 0.8499\n",
      "Epoch 34/50\n",
      "34799/34799 [==============================] - 3s 76us/step - loss: 0.0322 - accuracy: 0.9922 - val_loss: 0.7574 - val_accuracy: 0.8435\n",
      "Epoch 35/50\n",
      "34799/34799 [==============================] - 3s 79us/step - loss: 0.0310 - accuracy: 0.9930 - val_loss: 0.6875 - val_accuracy: 0.8542\n",
      "Epoch 36/50\n",
      "34799/34799 [==============================] - 3s 77us/step - loss: 0.0334 - accuracy: 0.9913 - val_loss: 0.6834 - val_accuracy: 0.8569\n",
      "Epoch 37/50\n",
      "34799/34799 [==============================] - 3s 80us/step - loss: 0.0346 - accuracy: 0.9912 - val_loss: 0.7373 - val_accuracy: 0.8444\n",
      "Epoch 38/50\n",
      "34799/34799 [==============================] - 3s 79us/step - loss: 0.0267 - accuracy: 0.9938 - val_loss: 0.7457 - val_accuracy: 0.8519\n",
      "Epoch 39/50\n",
      "34799/34799 [==============================] - 3s 73us/step - loss: 0.0252 - accuracy: 0.9940 - val_loss: 0.7350 - val_accuracy: 0.8424\n",
      "Epoch 40/50\n",
      "34799/34799 [==============================] - 3s 76us/step - loss: 0.0327 - accuracy: 0.9911 - val_loss: 0.7750 - val_accuracy: 0.8476\n",
      "Epoch 41/50\n",
      "34799/34799 [==============================] - 3s 77us/step - loss: 0.0286 - accuracy: 0.9926 - val_loss: 0.7259 - val_accuracy: 0.8574\n",
      "Epoch 42/50\n",
      "34799/34799 [==============================] - 3s 73us/step - loss: 0.0188 - accuracy: 0.9958 - val_loss: 0.7122 - val_accuracy: 0.8617\n",
      "Epoch 43/50\n",
      "34799/34799 [==============================] - 3s 75us/step - loss: 0.0183 - accuracy: 0.9957 - val_loss: 0.7401 - val_accuracy: 0.8574\n",
      "Epoch 44/50\n",
      "34799/34799 [==============================] - 3s 74us/step - loss: 0.0165 - accuracy: 0.9963 - val_loss: 0.6793 - val_accuracy: 0.8710\n",
      "Epoch 45/50\n",
      "34799/34799 [==============================] - 3s 75us/step - loss: 0.0149 - accuracy: 0.9964 - val_loss: 0.7442 - val_accuracy: 0.8637\n",
      "Epoch 46/50\n",
      "34799/34799 [==============================] - 3s 76us/step - loss: 0.0149 - accuracy: 0.9968 - val_loss: 0.7303 - val_accuracy: 0.8580\n",
      "Epoch 47/50\n",
      "34799/34799 [==============================] - 3s 76us/step - loss: 0.0143 - accuracy: 0.9967 - val_loss: 0.7359 - val_accuracy: 0.8592\n",
      "Epoch 48/50\n",
      "34799/34799 [==============================] - 3s 78us/step - loss: 0.0138 - accuracy: 0.9970 - val_loss: 0.7865 - val_accuracy: 0.8526\n",
      "Epoch 49/50\n",
      "34799/34799 [==============================] - 3s 75us/step - loss: 0.0230 - accuracy: 0.9931 - val_loss: 0.7798 - val_accuracy: 0.8567\n",
      "Epoch 50/50\n",
      "34799/34799 [==============================] - 3s 75us/step - loss: 0.0298 - accuracy: 0.9909 - val_loss: 0.8447 - val_accuracy: 0.8474\n"
     ]
    }
   ],
   "source": [
    "history = cnn_model.fit(X_train_gray_norm,\n",
    "                        y_train,\n",
    "                        batch_size=500,\n",
    "                        nb_epoch=50,\n",
    "                        verbose=1,\n",
    "                        validation_data = (X_validation_gray_norm,y_validation))"
   ]
  },
  {
   "cell_type": "code",
   "execution_count": 20,
   "metadata": {},
   "outputs": [
    {
     "data": {
      "text/plain": [
       "dict_keys(['val_loss', 'val_accuracy', 'loss', 'accuracy'])"
      ]
     },
     "execution_count": 20,
     "metadata": {},
     "output_type": "execute_result"
    }
   ],
   "source": [
    "history.history.keys()"
   ]
  },
  {
   "cell_type": "code",
   "execution_count": 36,
   "metadata": {},
   "outputs": [
    {
     "name": "stderr",
     "output_type": "stream",
     "text": [
      "No handles with labels found to put in legend.\n"
     ]
    },
    {
     "data": {
      "image/png": "[encoded data removed]",
      "text/plain": [
       "<Figure size 432x288 with 1 Axes>"
      ]
     },
     "metadata": {
      "needs_background": "light"
     },
     "output_type": "display_data"
    }
   ],
   "source": [
    "acc = history.history['accuracy']\n",
    "acc_val = history.history['val_accuracy']\n",
    "loss = history.history['loss']\n",
    "val_loss= history.history['val_loss']\n",
    "\n",
    "epochs=range(len(acc))\n",
    "plt.plot(epochs,acc,\"^\",'r')\n",
    "plt.plot(epochs,acc_val,'r')\n",
    "\n",
    "plt.title('Training and validatio loss')\n",
    "plt.legend()\n",
    "plt.show()"
   ]
  },
  {
   "cell_type": "code",
   "execution_count": 35,
   "metadata": {},
   "outputs": [
    {
     "name": "stderr",
     "output_type": "stream",
     "text": [
      "No handles with labels found to put in legend.\n"
     ]
    },
    {
     "data": {
      "image/png": "[encoded data removed]",
      "text/plain": [
       "<Figure size 432x288 with 1 Axes>"
      ]
     },
     "metadata": {
      "needs_background": "light"
     },
     "output_type": "display_data"
    }
   ],
   "source": [
    "epochs=range(len(acc))\n",
    "plt.plot(epochs,loss,'r')\n",
    "plt.plot(epochs,val_loss,'r')\n",
    "\n",
    "plt.title('Training and validatio loss')\n",
    "plt.legend()\n",
    "plt.show()"
   ]
  },
  {
   "cell_type": "code",
   "execution_count": null,
   "metadata": {},
   "outputs": [],
   "source": []
  },
  {
   "cell_type": "code",
   "execution_count": null,
   "metadata": {},
   "outputs": [],
   "source": []
  },
  {
   "cell_type": "code",
   "execution_count": null,
   "metadata": {},
   "outputs": [],
   "source": []
  },
  {
   "cell_type": "code",
   "execution_count": null,
   "metadata": {},
   "outputs": [],
   "source": []
  }
 ],
 "metadata": {
  "kernelspec": {
   "display_name": "Python 3",
   "language": "python",
   "name": "python3"
  },
  "language_info": {
   "codemirror_mode": {
    "name": "ipython",
    "version": 3
   },
   "file_extension": ".py",
   "mimetype": "text/x-python",
   "name": "python",
   "nbconvert_exporter": "python",
   "pygments_lexer": "ipython3",
   "version": "3.8.5"
  }
 },
 "nbformat": 4,
 "nbformat_minor": 4
}
